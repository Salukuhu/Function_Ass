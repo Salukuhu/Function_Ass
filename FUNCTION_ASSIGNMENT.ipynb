{
  "nbformat": 4,
  "nbformat_minor": 0,
  "metadata": {
    "colab": {
      "provenance": [],
      "authorship_tag": "ABX9TyNafxP0KCr7MMyB57jSdEBv",
      "include_colab_link": true
    },
    "kernelspec": {
      "name": "python3",
      "display_name": "Python 3"
    },
    "language_info": {
      "name": "python"
    }
  },
  "cells": [
    {
      "cell_type": "markdown",
      "metadata": {
        "id": "view-in-github",
        "colab_type": "text"
      },
      "source": [
        "<a href=\"https://colab.research.google.com/github/Salukuhu/Function_Ass/blob/main/FUNCTION_ASSIGNMENT.ipynb\" target=\"_parent\"><img src=\"https://colab.research.google.com/assets/colab-badge.svg\" alt=\"Open In Colab\"/></a>"
      ]
    },
    {
      "cell_type": "markdown",
      "source": [
        "Q1) In Python, a function is a reusable block of code that performs a specific task and can be called by its name, while a method is a function that is associated with an object or class and is called using dot notation (e.g., object.method()).\n"
      ],
      "metadata": {
        "id": "AnbHCzRy0lsl"
      }
    },
    {
      "cell_type": "markdown",
      "source": [
        "Q2)In Python, parameters are placeholders defined in a function's definition, while arguments are the actual values passed to the function when it's called.\n",
        "Here's a more detailed explanation:\n",
        "*Parameters*:  \n",
        "*Definition*: Parameters are variables that are listed inside the parentheses of a function definition.\n",
        "*Purpose*: They act as placeholders to receive values from the function call.\n",
        "*Example*: In the function def greet(name, greeting):, name and greeting are parameters.\n",
        "\n",
        "*Arguments*:\n",
        "\n",
        "*Definition*: Arguments are the values that are passed to the function when it is called.\n",
        "*Purpose*: They provide the actual data that the function will work with.\n",
        "*Example*: In the function call greet(\"Alice\", \"Hello\"), \"Alice\" and \"Hello\" are arguments."
      ],
      "metadata": {
        "id": "1LdM2UZm1jon"
      }
    },
    {
      "cell_type": "markdown",
      "source": [
        "Q3)To define a function in Python, you use the def keyword, followed by the function name, parentheses for parameters, and a colon, then indent the code within the function. To call it, use the function name followed by parentheses, optionally with arguments."
      ],
      "metadata": {
        "id": "GgU--Qc32HC1"
      }
    },
    {
      "cell_type": "markdown",
      "source": [
        "Q4)The return statement in Python serves as a way for a function to send back a result to the part of the program that called it. It allows functions to produce outputs, making them more useful and reusable.\n",
        "Additionally, return can be used to stop a function early, preventing unnecessary execution. It also plays a key role in recursion, where a function calls itself and needs to pass back intermediate results. If a function doesn’t have a return statement, it implicitly returns None, meaning it performs actions but does not give a meaningful result."
      ],
      "metadata": {
        "id": "Op4SmPtI2Voj"
      }
    },
    {
      "cell_type": "markdown",
      "source": [
        "Q5)\n",
        "*   An iterable is any Python object capable of returning its elements one at a\n",
        "time. These objects implement the __iter__() method, which returns an iterator. Examples of iterables include lists, tuples, strings, dictionaries, and sets.\n",
        "\n",
        "*  An iterator is an object that represents a stream of data and is used to iterate over an iterable. It implements both __iter__() and __next__() methods. The __next__() method returns the next element in the sequence and raises a StopIteration exception when there are no more elements.\n",
        "\n",
        "\n"
      ],
      "metadata": {
        "id": "4eCdaYq225wd"
      }
    },
    {
      "cell_type": "markdown",
      "source": [
        "Q6)Generators in Python are a special type of iterable that allow you to generate values on the fly instead of storing them all in memory at once. They provide a more memory-efficient way to handle large data sets or infinite sequences.\n",
        "\n",
        "A generator is defined using a function with the yield statement. When called, it returns a generator object rather than immediately executing."
      ],
      "metadata": {
        "id": "9xuZaQzO3n-h"
      }
    },
    {
      "cell_type": "markdown",
      "source": [
        "Q7)**Advantages of Generators Over Regular Functions**:\n",
        "\n",
        "Memory Efficient – Generates values one at a time, avoiding high memory usage.\n",
        "\n",
        "Faster Execution – Computes values only when needed (lazy evaluation).\n",
        "\n",
        "State Retention – Resumes from where it left off, unlike regular functions.\n",
        "\n",
        "Simplifies Iterators – No need to define __iter__() and __next__().\n",
        "\n",
        "Ideal for Streaming Data – Works well with real-time data (e.g., logs, APIs).\n",
        "\n",
        "Prevents Unnecessary Computation – Stops execution after retrieving needed values.\n",
        "\n",
        "Best for Large or Infinite Sequences – Efficient for tasks like Fibonacci numbers, file reading, and database queries."
      ],
      "metadata": {
        "id": "EuCbG9_T36zc"
      }
    },
    {
      "cell_type": "markdown",
      "source": [
        "Q8)A lambda function is a small, anonymous function defined using the lambda keyword. Unlike regular functions, it does not have a name and consists of a single expression.\n",
        "\n",
        "Syntax: lamda arguments : expression"
      ],
      "metadata": {
        "id": "JXxCfe-04dzY"
      }
    },
    {
      "cell_type": "markdown",
      "source": [
        "Q9)The map() function is used to apply a function to every item in an iterable (like a list or tuple) without using explicit loops. It returns a map object, which is an iterator that generates results lazily.\n",
        "\n",
        "Syntax: map(function, iterable)\n",
        "\n",
        "Usage of map() function:\n",
        "\n",
        "When you need to transform a list without writing a loop.\n",
        "\n",
        "When applying a function to each element of an iterable.\n",
        "\n",
        "When working with large datasets (since it returns a lazy iterator)"
      ],
      "metadata": {
        "id": "6h3ph-0P5Bb8"
      }
    },
    {
      "cell_type": "markdown",
      "source": [
        "Q10) *map()* => Applies a function to each element of an iterable\n",
        "\n",
        "A map object (iterator) containing transformed elements.\n",
        "\n",
        "When you need to modify all elements in a list.\n",
        "\n",
        "*filter()* => Filters elements based on a condition. (True/False)\n",
        "\n",
        "A filter object (iterator) with only elements that satisfy the condition.\n",
        "\n",
        "When you need to keep only specific elements from a list.\n",
        "\n",
        "reduce() =>\tApplies a function cumulatively, reducing the iterable to a single value.\n",
        "\n",
        "A single computed value. (not an iterator)\n",
        "\n",
        "When you need to aggregate all elements.(e.g., sum, product)\n",
        "\n",
        "\n"
      ],
      "metadata": {
        "id": "l0QoqeaK5atP"
      }
    },
    {
      "cell_type": "markdown",
      "source": [
        "Q11) The reduce() function from functools applies a function cumulatively to the elements of an iterable, reducing it to a single value.The reduce() takes the first two elements, applies the function, then uses the result with the next element, and so on. reduce() accumulates results step by step.\n",
        "Step | x (Accumulated) | y (Next Element) | add(x, y)\n",
        "\n",
        "1st | 47 | 11 |\t58\n",
        "\n",
        "2nd\t| 58 | 42\t| 100\n",
        "\n",
        "3rd\t| 100 | 13 | 113\n",
        "\n",
        "It reduces a list to a single value.\n",
        "\n",
        "Efficient for operations like sum, product, max, min, etc."
      ],
      "metadata": {
        "id": "73_EjWWp6aRI"
      }
    },
    {
      "cell_type": "markdown",
      "source": [
        "PRACTICAL QUESTIONS"
      ],
      "metadata": {
        "id": "LPeWu-ay999z"
      }
    },
    {
      "cell_type": "markdown",
      "source": [
        "Q1)"
      ],
      "metadata": {
        "id": "hmcvFj6F-BqW"
      }
    },
    {
      "cell_type": "code",
      "source": [
        "def sum_of_evens(numbers):\n",
        "    return sum(filter(lambda x: x % 2 == 0, numbers))\n",
        "\n",
        "nums = [1, 2, 3, 4, 5, 6, 7, 8]\n",
        "print(sum_of_evens(nums))\n"
      ],
      "metadata": {
        "colab": {
          "base_uri": "https://localhost:8080/"
        },
        "id": "-4w8jzaL9sST",
        "outputId": "36f91109-92b5-4772-f724-dfc97e3414ef"
      },
      "execution_count": null,
      "outputs": [
        {
          "output_type": "stream",
          "name": "stdout",
          "text": [
            "20\n"
          ]
        }
      ]
    },
    {
      "cell_type": "markdown",
      "source": [
        "Q2)\n"
      ],
      "metadata": {
        "id": "todrvGeZ-DnN"
      }
    },
    {
      "cell_type": "code",
      "source": [
        "def reverse_string(s):\n",
        "    return s[::-1]\n",
        "\n",
        "print(reverse_string(\"sai\"))\n"
      ],
      "metadata": {
        "colab": {
          "base_uri": "https://localhost:8080/"
        },
        "id": "nmL2opZS-FiO",
        "outputId": "09cb7c91-f3c0-4f1d-eda9-829853450439"
      },
      "execution_count": null,
      "outputs": [
        {
          "output_type": "stream",
          "name": "stdout",
          "text": [
            "ias\n"
          ]
        }
      ]
    },
    {
      "cell_type": "markdown",
      "source": [
        "Q3)"
      ],
      "metadata": {
        "id": "0FcntUXz-RT2"
      }
    },
    {
      "cell_type": "code",
      "source": [
        "def square_numbers(numbers):\n",
        "    return [x**2 for x in numbers]\n",
        "\n",
        "nums = [1, 2, 3, 4, 5]\n",
        "print(square_numbers(nums))"
      ],
      "metadata": {
        "colab": {
          "base_uri": "https://localhost:8080/"
        },
        "id": "hOIGX_7B-Smd",
        "outputId": "4810fe08-0fac-47c1-ff68-3ec633b6d716"
      },
      "execution_count": null,
      "outputs": [
        {
          "output_type": "stream",
          "name": "stdout",
          "text": [
            "[1, 4, 9, 16, 25]\n"
          ]
        }
      ]
    },
    {
      "cell_type": "markdown",
      "source": [
        "Q4)"
      ],
      "metadata": {
        "id": "1xCLtKjw-dW3"
      }
    },
    {
      "cell_type": "code",
      "source": [
        "def is_prime(n):\n",
        "    if n < 2:\n",
        "        return False\n",
        "    for i in range(2, int(n ** 0.5) + 1):\n",
        "        if n % i == 0:\n",
        "            return False\n",
        "    return True\n",
        "\n",
        "primes = [num for num in range(1, 201) if is_prime(num)]\n",
        "print(primes)\n"
      ],
      "metadata": {
        "colab": {
          "base_uri": "https://localhost:8080/"
        },
        "id": "ocU4uKxD-e6Y",
        "outputId": "952714a3-d162-4879-a189-1814907f70a2"
      },
      "execution_count": null,
      "outputs": [
        {
          "output_type": "stream",
          "name": "stdout",
          "text": [
            "[2, 3, 5, 7, 11, 13, 17, 19, 23, 29, 31, 37, 41, 43, 47, 53, 59, 61, 67, 71, 73, 79, 83, 89, 97, 101, 103, 107, 109, 113, 127, 131, 137, 139, 149, 151, 157, 163, 167, 173, 179, 181, 191, 193, 197, 199]\n"
          ]
        }
      ]
    },
    {
      "cell_type": "markdown",
      "source": [
        "Q5)"
      ],
      "metadata": {
        "id": "1Ph6pLj7-q7x"
      }
    },
    {
      "cell_type": "code",
      "source": [
        "class FibonacciIterator:\n",
        "    def __init__(self, n_terms):\n",
        "        self.n_terms = n_terms\n",
        "        self.a, self.b = 0, 1\n",
        "        self.count = 0\n",
        "\n",
        "    def __iter__(self):\n",
        "        return self\n",
        "\n",
        "    def __next__(self):\n",
        "        if self.count >= self.n_terms:\n",
        "            raise StopIteration\n",
        "\n",
        "        fib_number = self.a\n",
        "        self.a, self.b = self.b, self.a + self.b\n",
        "        self.count += 1\n",
        "        return fib_number\n",
        "\n",
        "fib_iter = FibonacciIterator(10)\n",
        "print(list(fib_iter))\n"
      ],
      "metadata": {
        "colab": {
          "base_uri": "https://localhost:8080/"
        },
        "id": "fiKa6tyH-sdt",
        "outputId": "856e7aa7-852a-4d51-b3ee-6f6cf6318a60"
      },
      "execution_count": null,
      "outputs": [
        {
          "output_type": "stream",
          "name": "stdout",
          "text": [
            "[0, 1, 1, 2, 3, 5, 8, 13, 21, 34]\n"
          ]
        }
      ]
    },
    {
      "cell_type": "markdown",
      "source": [
        "Q6)"
      ],
      "metadata": {
        "id": "SoYtPOaL_Jhe"
      }
    },
    {
      "cell_type": "code",
      "source": [
        "def powers_of_2(max_exponent):\n",
        "     for exponent in range(max_exponent + 1):\n",
        "        yield 2 ** exponent\n",
        "\n",
        "for power in powers_of_2(5):\n",
        "    print(power)"
      ],
      "metadata": {
        "colab": {
          "base_uri": "https://localhost:8080/"
        },
        "id": "aYSc5kkx_K56",
        "outputId": "f7726b03-8d0e-4e90-9b0d-d2898cd97db3"
      },
      "execution_count": null,
      "outputs": [
        {
          "output_type": "stream",
          "name": "stdout",
          "text": [
            "1\n",
            "2\n",
            "4\n",
            "8\n",
            "16\n",
            "32\n"
          ]
        }
      ]
    },
    {
      "cell_type": "markdown",
      "source": [
        "Q7)"
      ],
      "metadata": {
        "id": "5T5qaULy_s3y"
      }
    },
    {
      "cell_type": "code",
      "source": [
        "def read_lines(file_path):\n",
        "    for line in open(file_path, \"r\"):\n",
        "        yield line.strip()\n",
        "\n"
      ],
      "metadata": {
        "id": "cOA4PRiz_t8m"
      },
      "execution_count": null,
      "outputs": []
    },
    {
      "cell_type": "markdown",
      "source": [
        "Q8)"
      ],
      "metadata": {
        "id": "M2YoRlFv__Im"
      }
    },
    {
      "cell_type": "code",
      "source": [
        "subject_marks = [('English', 88), ('Science', 90), ('Maths', 97), ('Social sciences', 82)]\n",
        "print(\"Original list of tuples:\")\n",
        "print(subject_marks)\n",
        "subject_marks.sort(key=lambda x: x[1])\n",
        "print(\"\\nSorting the List of Tuples:\")\n",
        "print(subject_marks)"
      ],
      "metadata": {
        "colab": {
          "base_uri": "https://localhost:8080/"
        },
        "id": "MJDyPXCsAAex",
        "outputId": "6768fda4-f629-4f27-b835-5b44508827af"
      },
      "execution_count": 8,
      "outputs": [
        {
          "output_type": "stream",
          "name": "stdout",
          "text": [
            "Original list of tuples:\n",
            "[('English', 88), ('Science', 90), ('Maths', 97), ('Social sciences', 82)]\n",
            "\n",
            "Sorting the List of Tuples:\n",
            "[('Social sciences', 82), ('English', 88), ('Science', 90), ('Maths', 97)]\n"
          ]
        }
      ]
    },
    {
      "cell_type": "markdown",
      "source": [
        "Q9)"
      ],
      "metadata": {
        "id": "YJFjF0LgATwH"
      }
    },
    {
      "cell_type": "code",
      "source": [
        "def celsius_to_fahrenheit(celsius):\n",
        "    return (celsius * 9/5) + 32\n",
        "\n",
        "temperatures_celsius = [0, 20, 37, 100, -40]\n",
        "temperatures_fahrenheit = list(map(celsius_to_fahrenheit, temperatures_celsius))\n",
        "\n",
        "print(\"Temperatures in Fahrenheit:\", temperatures_fahrenheit)"
      ],
      "metadata": {
        "colab": {
          "base_uri": "https://localhost:8080/"
        },
        "id": "qMXJOfV6AVEu",
        "outputId": "5fcbd29b-6556-4565-dc8c-8a9bf7c37e99"
      },
      "execution_count": 9,
      "outputs": [
        {
          "output_type": "stream",
          "name": "stdout",
          "text": [
            "Temperatures in Fahrenheit: [32.0, 68.0, 98.6, 212.0, -40.0]\n"
          ]
        }
      ]
    },
    {
      "cell_type": "markdown",
      "source": [
        "Q10)"
      ],
      "metadata": {
        "id": "a_wRp6vBAxzU"
      }
    },
    {
      "cell_type": "code",
      "source": [
        "def is_not_vowel(char):\n",
        "    return char.lower() not in 'aeiou'\n",
        "\n",
        "input_string = \"sasmita\"\n",
        "\n",
        "filtered_string = ''.join(filter(is_not_vowel, input_string))\n",
        "\n",
        "print(\"String without vowels:\", filtered_string)"
      ],
      "metadata": {
        "colab": {
          "base_uri": "https://localhost:8080/"
        },
        "id": "cNiam5BrAy02",
        "outputId": "416bdbe2-574c-4aaa-af6d-d41359afea93"
      },
      "execution_count": 10,
      "outputs": [
        {
          "output_type": "stream",
          "name": "stdout",
          "text": [
            "String without vowels: ssmt\n"
          ]
        }
      ]
    },
    {
      "cell_type": "markdown",
      "source": [
        "Q11)"
      ],
      "metadata": {
        "id": "ZO2fLOrSBcs5"
      }
    },
    {
      "cell_type": "code",
      "source": [
        "orders = [\n",
        "    (34587, \"Learning Python, Mark Lutz\", 4, 40.95),\n",
        "    (98762, \"Programming Python, Mark Lutz\", 5, 56.80),\n",
        "    (77226, \"Head First Python, Paul Barry\", 3, 32.95),\n",
        "    (88112, \"Einführung in Python3, Bernd Klein\", 3, 24.99)\n",
        "]\n",
        "\n",
        "order_totals = list(map(lambda order: (order[0], order[2] * order[3] if order[2] * order[3] >= 100 else order[2] * order[3] + 10), orders))\n",
        "\n",
        "print(order_totals)"
      ],
      "metadata": {
        "colab": {
          "base_uri": "https://localhost:8080/"
        },
        "id": "m5nl0AHyBbn_",
        "outputId": "06201daf-924f-44e5-d7ee-bfbe19823332"
      },
      "execution_count": 16,
      "outputs": [
        {
          "output_type": "stream",
          "name": "stdout",
          "text": [
            "[(34587, 163.8), (98762, 284.0), (77226, 108.85000000000001), (88112, 84.97)]\n"
          ]
        }
      ]
    }
  ]
}